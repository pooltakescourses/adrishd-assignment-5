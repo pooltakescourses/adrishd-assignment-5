{
  "cells": [
    {
      "cell_type": "markdown",
      "source": [
        "Installing Libraries for Parallelization and JIT Compiling Numpy Operations, for fast experimentation."
      ],
      "metadata": {
        "id": "YR4b3kb_Emsl"
      }
    },
    {
      "cell_type": "code",
      "execution_count": 1,
      "metadata": {
        "id": "SsQvugrBVIf0",
        "colab": {
          "base_uri": "https://localhost:8080/"
        },
        "outputId": "8845af89-f3ff-4c90-e1e0-dbc66d575705"
      },
      "outputs": [
        {
          "output_type": "stream",
          "name": "stdout",
          "text": [
            "\u001b[2K   \u001b[90m━━━━━━━━━━━━━━━━━━━━━━━━━━━━━━━━━━━━━━━━\u001b[0m \u001b[32m3.0/3.0 MB\u001b[0m \u001b[31m16.9 MB/s\u001b[0m eta \u001b[36m0:00:00\u001b[0m\n",
            "\u001b[2K   \u001b[90m━━━━━━━━━━━━━━━━━━━━━━━━━━━━━━━━━━━━━━━━\u001b[0m \u001b[32m3.1/3.1 MB\u001b[0m \u001b[31m14.3 MB/s\u001b[0m eta \u001b[36m0:00:00\u001b[0m\n",
            "\u001b[2K   \u001b[90m━━━━━━━━━━━━━━━━━━━━━━━━━━━━━━━━━━━━━━━━\u001b[0m \u001b[32m201.4/201.4 kB\u001b[0m \u001b[31m7.8 MB/s\u001b[0m eta \u001b[36m0:00:00\u001b[0m\n",
            "\u001b[2K   \u001b[90m━━━━━━━━━━━━━━━━━━━━━━━━━━━━━━━━━━━━━━━━\u001b[0m \u001b[32m8.3/8.3 MB\u001b[0m \u001b[31m7.5 MB/s\u001b[0m eta \u001b[36m0:00:00\u001b[0m\n",
            "\u001b[2K   \u001b[90m━━━━━━━━━━━━━━━━━━━━━━━━━━━━━━━━━━━━━━━━\u001b[0m \u001b[32m128.2/128.2 kB\u001b[0m \u001b[31m5.6 MB/s\u001b[0m eta \u001b[36m0:00:00\u001b[0m\n",
            "\u001b[2K   \u001b[90m━━━━━━━━━━━━━━━━━━━━━━━━━━━━━━━━━━━━━━━━\u001b[0m \u001b[32m65.6/65.6 MB\u001b[0m \u001b[31m6.4 MB/s\u001b[0m eta \u001b[36m0:00:00\u001b[0m\n",
            "\u001b[2K   \u001b[90m━━━━━━━━━━━━━━━━━━━━━━━━━━━━━━━━━━━━━━━━\u001b[0m \u001b[32m469.0/469.0 kB\u001b[0m \u001b[31m12.4 MB/s\u001b[0m eta \u001b[36m0:00:00\u001b[0m\n",
            "\u001b[2K   \u001b[90m━━━━━━━━━━━━━━━━━━━━━━━━━━━━━━━━━━━━━━━━\u001b[0m \u001b[32m600.4/600.4 kB\u001b[0m \u001b[31m10.0 MB/s\u001b[0m eta \u001b[36m0:00:00\u001b[0m\n",
            "\u001b[?25h"
          ]
        }
      ],
      "source": [
        "!pip install -q 'ray[default]' numba"
      ]
    },
    {
      "cell_type": "markdown",
      "source": [
        "## Scikit Learn Functions"
      ],
      "metadata": {
        "id": "XfvS7cm-75qj"
      }
    },
    {
      "cell_type": "markdown",
      "source": [
        "Imports"
      ],
      "metadata": {
        "id": "c7_3G17y8zqV"
      }
    },
    {
      "cell_type": "code",
      "source": [
        "import numpy as np\n",
        "import numba as nb\n",
        "import pandas as pd\n",
        "import matplotlib.pyplot as plt"
      ],
      "metadata": {
        "id": "b5kefbiq8yHw"
      },
      "execution_count": 2,
      "outputs": []
    },
    {
      "cell_type": "code",
      "source": [
        "class StandardScaler:\n",
        "    def __init__(self):\n",
        "        self.mean_ = None\n",
        "        self.scale_ = None\n",
        "\n",
        "    def fit(self, X):\n",
        "        self.mean_ = np.mean(X, axis=0)\n",
        "        self.scale_ = np.std(X, axis=0)\n",
        "        return self\n",
        "\n",
        "    def transform(self, X):\n",
        "        if self.mean_ is None or self.scale_ is None:\n",
        "            raise Exception(\"Scaler has not been fitted yet.\")\n",
        "\n",
        "        X_scaled = (X - self.mean_) / self.scale_\n",
        "        return X_scaled\n",
        "\n",
        "    def fit_transform(self, X):\n",
        "        self.fit(X)\n",
        "        return self.transform(X)\n",
        "\n",
        "    def inverse_transform(self, X_scaled):\n",
        "        X_original = (X_scaled * self.scale_) + self.mean_\n",
        "        return X_original"
      ],
      "metadata": {
        "id": "tAQPnqFV7Btl"
      },
      "execution_count": 3,
      "outputs": []
    },
    {
      "cell_type": "code",
      "source": [
        "class LabelEncoder:\n",
        "    def __init__(self):\n",
        "        self.classes_ = None\n",
        "\n",
        "    def fit(self, y):\n",
        "        self.classes_ = np.unique(y)\n",
        "        return self\n",
        "\n",
        "    def transform(self, y):\n",
        "        if self.classes_ is None:\n",
        "            raise Exception(\"LabelEncoder has not been fitted yet.\")\n",
        "\n",
        "        label_map = {label: idx for idx, label in enumerate(self.classes_)}\n",
        "        y_encoded = np.array([label_map[label] for label in y])\n",
        "        return y_encoded\n",
        "\n",
        "    def fit_transform(self, y):\n",
        "        self.fit(y)\n",
        "        return self.transform(y)\n",
        "\n",
        "    def inverse_transform(self, y_encoded):\n",
        "        if self.classes_ is None:\n",
        "            raise Exception(\"LabelEncoder has not been fitted yet.\")\n",
        "\n",
        "        inverse_map = {idx: label for idx, label in enumerate(self.classes_)}\n",
        "        y_original = np.array([inverse_map[idx] for idx in y_encoded])\n",
        "        return y_original"
      ],
      "metadata": {
        "id": "2yOa_kei74jd"
      },
      "execution_count": 4,
      "outputs": []
    },
    {
      "cell_type": "code",
      "source": [
        "class KFold:\n",
        "    def __init__(self, n_splits=5, shuffle=False, random_state=None):\n",
        "        self.n_splits = n_splits\n",
        "        self.shuffle = shuffle\n",
        "        self.random_state = random_state\n",
        "\n",
        "    def split(self, X):\n",
        "        n_samples = X.shape[0]\n",
        "        indices = np.arange(n_samples)\n",
        "\n",
        "        if self.shuffle:\n",
        "            if self.random_state is not None:\n",
        "                np.random.seed(self.random_state)\n",
        "            np.random.shuffle(indices)\n",
        "\n",
        "        fold_sizes = np.full(self.n_splits, n_samples // self.n_splits, dtype=int)\n",
        "        fold_sizes[:n_samples % self.n_splits] += 1\n",
        "\n",
        "        current = 0\n",
        "        for fold_size in fold_sizes:\n",
        "            val_idx = indices[current:current + fold_size]\n",
        "            train_idx = np.concatenate([indices[:current], indices[current + fold_size:]])\n",
        "            yield train_idx, val_idx\n",
        "            current += fold_size"
      ],
      "metadata": {
        "id": "ZGTZqvn38B5w"
      },
      "execution_count": 5,
      "outputs": []
    },
    {
      "cell_type": "code",
      "source": [
        "@nb.njit\n",
        "def roc_auc_score(y_true, y_scores):\n",
        "    sorted_indices = np.argsort(y_scores)[::-1]\n",
        "    y_true_sorted = y_true[sorted_indices]\n",
        "    y_scores_sorted = y_scores[sorted_indices]\n",
        "\n",
        "    positives = np.sum(y_true == 1)\n",
        "    negatives = np.sum(y_true == 0)\n",
        "\n",
        "    if positives == 0 or negatives == 0:\n",
        "        raise ValueError(\"ROC AUC score is not defined.\")\n",
        "\n",
        "    tpr = [0]\n",
        "    fpr = [0]\n",
        "\n",
        "    tp = 0\n",
        "    fp = 0\n",
        "\n",
        "    for i in range(len(y_true_sorted)):\n",
        "        if y_true_sorted[i] == 1:\n",
        "            tp += 1\n",
        "        else:\n",
        "            fp += 1\n",
        "\n",
        "        tpr.append(tp / positives)\n",
        "        fpr.append(fp / negatives)\n",
        "\n",
        "    tpr.append(1)\n",
        "    fpr.append(1)\n",
        "\n",
        "    auc = np.trapz(tpr, fpr)\n",
        "\n",
        "    return auc"
      ],
      "metadata": {
        "id": "vLi1J3kQ8eYa"
      },
      "execution_count": 6,
      "outputs": []
    },
    {
      "cell_type": "markdown",
      "source": [
        "Building KNN Model"
      ],
      "metadata": {
        "id": "D2FrYc_j78gg"
      }
    },
    {
      "cell_type": "code",
      "execution_count": 7,
      "metadata": {
        "id": "HJvspjPNQF12"
      },
      "outputs": [],
      "source": [
        "@nb.njit\n",
        "def compute_distance_euclidean(X1, X2):\n",
        "  return np.sqrt(np.sum((X2 - X1) ** 2, axis=1))\n",
        "\n",
        "@nb.njit\n",
        "def compute_distance_manhattan(X1, X2):\n",
        "  return np.sum(np.abs(X2 - X1), axis=1)\n",
        "\n",
        "class KNN:\n",
        "    def __init__(self, k=3, distance_metric='euclidean'):\n",
        "        self.k = k\n",
        "        self.distance_metric = distance_metric\n",
        "\n",
        "    def fit(self, X, y):\n",
        "        self.X_train = X\n",
        "        self.y_train = y\n",
        "\n",
        "    def predict(self, X):\n",
        "        probabilities = np.zeros((X.shape[0],))\n",
        "        for i, x in enumerate(X):\n",
        "            neighbors = self._get_neighbors(x)\n",
        "            prob_class_1 = np.sum(self.y_train[neighbors] == 1) / self.k\n",
        "            probabilities[i] = prob_class_1\n",
        "        return probabilities\n",
        "\n",
        "    def _get_neighbors(self, x):\n",
        "        distances = self.compute_distances(self.X_train, x)\n",
        "        neighbors_idx = np.argsort(distances)[:self.k]\n",
        "        return neighbors_idx\n",
        "\n",
        "    def compute_distances(self, X1, X2):\n",
        "        if self.distance_metric == 'euclidean':\n",
        "            return compute_distance_euclidean(X1, X2)\n",
        "        elif self.distance_metric == 'manhattan':\n",
        "            return compute_distance_manhattan(X1, X2)\n",
        "        else:\n",
        "            raise ValueError(f\"Unknown metric: {self.distance_metric}\")\n"
      ]
    },
    {
      "cell_type": "markdown",
      "source": [
        "## Data Preprocessing And Cross Validating"
      ],
      "metadata": {
        "id": "i5bc3GwaA35L"
      }
    },
    {
      "cell_type": "code",
      "execution_count": 11,
      "metadata": {
        "id": "5cmjS1JdQF12"
      },
      "outputs": [],
      "source": [
        "def preprocess_data(train_path, test_path):\n",
        "    # Load data\n",
        "    train_data = pd.read_csv(train_path)\n",
        "    test_data = pd.read_csv(test_path)\n",
        "\n",
        "    # Drop unnecessary columns (Customer ID, Surname)\n",
        "    train_data.drop(['CustomerId', 'Surname'], axis=1, inplace=True)\n",
        "    test_data.drop(['CustomerId', 'Surname'], axis=1, inplace=True)\n",
        "\n",
        "    # Handle categorical variables (Geography, Gender)\n",
        "    le = LabelEncoder()\n",
        "    for col in ['Geography', 'Gender']:\n",
        "        train_data[col] = le.fit_transform(train_data[col].values)\n",
        "        test_data[col] = le.transform(test_data[col].values)\n",
        "\n",
        "\n",
        "    X_train = train_data.drop('Exited', axis=1).values\n",
        "    y_train = train_data['Exited'].values\n",
        "    X_test = test_data.values\n",
        "\n",
        "    scaler = StandardScaler()\n",
        "\n",
        "    X_train = scaler.fit_transform(X_train)\n",
        "    X_test = scaler.transform(X_test)\n",
        "\n",
        "    return X_train, y_train, X_test"
      ]
    },
    {
      "cell_type": "code",
      "execution_count": 12,
      "metadata": {
        "id": "rs0ka0ziQF13"
      },
      "outputs": [],
      "source": [
        "def cross_validate(X, y, knn, n_splits=5):\n",
        "    kf = KFold(n_splits=n_splits, shuffle=True, random_state=42)\n",
        "    auc_scores = []\n",
        "\n",
        "    for train_idx, val_idx in kf.split(X):\n",
        "        X_train, X_val = X[train_idx], X[val_idx]\n",
        "        y_train, y_val = y[train_idx], y[val_idx]\n",
        "\n",
        "        knn.fit(X_train, y_train)\n",
        "\n",
        "        y_pred = knn.predict(X_val)\n",
        "\n",
        "        auc = roc_auc_score(y_val, y_pred)\n",
        "        auc_scores.append(auc)\n",
        "\n",
        "    return auc_scores"
      ]
    },
    {
      "cell_type": "markdown",
      "source": [
        "## Parallelization Code\n",
        "Using ray ([ray.io](https://ray.io)) to parallelize hyperparameter tuning."
      ],
      "metadata": {
        "id": "HWZxU7VQDTOY"
      }
    },
    {
      "cell_type": "code",
      "execution_count": 13,
      "metadata": {
        "id": "BozbIf8OU_ef"
      },
      "outputs": [],
      "source": [
        "import ray\n",
        "import tqdm\n",
        "\n",
        "if not ray.is_initialized():\n",
        "  ray.init(dashboard_port=8265, dashboard_host=\"0.0.0.0\")\n",
        "\n",
        "def ray_get_with_progress(refs):\n",
        "    pbar = tqdm.tqdm(total=len(refs))\n",
        "    results = []\n",
        "    while refs:\n",
        "        done, refs = ray.wait(refs)\n",
        "        results.append(ray.get(done[0]))\n",
        "        pbar.update(1)\n",
        "    return results\n",
        "\n",
        "@ray.remote(num_cpus=0.5)\n",
        "def parallel_cross_validate(k, metric, X, y):\n",
        "    knn = KNN(k=k, distance_metric=metric)\n",
        "    auc_scores = cross_validate(X, y, knn)\n",
        "    avg_auc = np.mean(auc_scores)\n",
        "    return k, metric, avg_auc"
      ]
    },
    {
      "cell_type": "markdown",
      "source": [
        "Visualizing Job Running Status on Ray Dashboard"
      ],
      "metadata": {
        "id": "neHeVk-XD0Ht"
      }
    },
    {
      "cell_type": "code",
      "execution_count": 14,
      "metadata": {
        "colab": {
          "base_uri": "https://localhost:8080/",
          "height": 421
        },
        "id": "DtirUBkchWV5",
        "outputId": "0ecab64a-1a03-411b-c3b5-2124918e18dc"
      },
      "outputs": [
        {
          "output_type": "display_data",
          "data": {
            "text/plain": [
              "<IPython.core.display.Javascript object>"
            ],
            "application/javascript": [
              "(async (port, path, width, height, cache, element) => {\n",
              "    if (!google.colab.kernel.accessAllowed && !cache) {\n",
              "      return;\n",
              "    }\n",
              "    element.appendChild(document.createTextNode(''));\n",
              "    const url = await google.colab.kernel.proxyPort(port, {cache});\n",
              "    const iframe = document.createElement('iframe');\n",
              "    iframe.src = new URL(path, url).toString();\n",
              "    iframe.height = height;\n",
              "    iframe.width = width;\n",
              "    iframe.style.border = 0;\n",
              "    iframe.allow = [\n",
              "        'accelerometer',\n",
              "        'autoplay',\n",
              "        'camera',\n",
              "        'clipboard-read',\n",
              "        'clipboard-write',\n",
              "        'gyroscope',\n",
              "        'magnetometer',\n",
              "        'microphone',\n",
              "        'serial',\n",
              "        'usb',\n",
              "        'xr-spatial-tracking',\n",
              "    ].join('; ');\n",
              "    element.appendChild(iframe);\n",
              "  })(8265, \"/\", \"100%\", \"400\", false, window.element)"
            ]
          },
          "metadata": {}
        }
      ],
      "source": [
        "from google.colab import output\n",
        "output.serve_kernel_port_as_iframe(8265)"
      ]
    },
    {
      "cell_type": "markdown",
      "source": [
        "## Hyper-Parameter Tuning\n",
        "\n",
        "Launching Jobs"
      ],
      "metadata": {
        "id": "a0vAkrkDD8A7"
      }
    },
    {
      "cell_type": "code",
      "execution_count": 15,
      "metadata": {
        "colab": {
          "base_uri": "https://localhost:8080/"
        },
        "id": "S0Ji0OoHqPnP",
        "outputId": "628655c2-632e-4921-cdf4-2a25bcf8b8c6"
      },
      "outputs": [
        {
          "output_type": "stream",
          "name": "stderr",
          "text": [
            "100%|██████████| 18/18 [06:48<00:00, 22.71s/it]\n"
          ]
        }
      ],
      "source": [
        "X, y, X_test = preprocess_data('./train.csv', './test.csv')\n",
        "metrics = ['euclidean', 'manhattan']\n",
        "k_values = range(10, 100, 10)\n",
        "job_refs = [parallel_cross_validate.remote(k, metric, X, y) for metric in metrics for k in k_values]\n",
        "results = ray_get_with_progress(job_refs)"
      ]
    },
    {
      "cell_type": "markdown",
      "source": [
        "Finding Best Hyper Parameter and Visualizing Accuracy"
      ],
      "metadata": {
        "id": "5kAWizqrESf6"
      }
    },
    {
      "cell_type": "code",
      "execution_count": 16,
      "metadata": {
        "colab": {
          "base_uri": "https://localhost:8080/",
          "height": 586
        },
        "id": "1o4LHCdjQF13",
        "outputId": "3cc2d56d-a149-46dd-f678-195714a6f4e6"
      },
      "outputs": [
        {
          "output_type": "stream",
          "name": "stdout",
          "text": [
            "Best k: 80, Best metric: manhattan, Best AUC: 0.9081921124595848\n"
          ]
        },
        {
          "output_type": "display_data",
          "data": {
            "text/plain": [
              "<Figure size 1000x600 with 1 Axes>"
            ],
            "image/png": "[encoded data removed]"
          },
          "metadata": {}
        }
      ],
      "source": [
        "# Hyperparameter tuning for k and distance_metric\n",
        "best_k = 5\n",
        "best_metric = 'euclidean'\n",
        "best_auc = 0\n",
        "\n",
        "euclidean_aucs = []\n",
        "manhattan_aucs = []\n",
        "ek_values_out = []\n",
        "mk_values_out = []\n",
        "\n",
        "for k, metric, auc in results:\n",
        "    if metric == 'euclidean':\n",
        "        euclidean_aucs.append(auc)\n",
        "        ek_values_out.append(k)\n",
        "    elif metric == 'manhattan':\n",
        "        manhattan_aucs.append(auc)\n",
        "        mk_values_out.append(k)\n",
        "\n",
        "    if auc > best_auc:\n",
        "        best_auc = auc\n",
        "        best_k = k\n",
        "        best_metric = metric\n",
        "\n",
        "print(f\"Best k: {best_k}, Best metric: {best_metric}, Best AUC: {best_auc}\")\n",
        "\n",
        "\n",
        "plt.figure(figsize=(10, 6))\n",
        "\n",
        "ek_values_out = np.asarray(ek_values_out)\n",
        "mk_values_out = np.asarray(mk_values_out)\n",
        "euclidean_aucs = np.asarray(euclidean_aucs)\n",
        "manhattan_aucs = np.asarray(manhattan_aucs)\n",
        "\n",
        "e_idxs = np.argsort(ek_values_out)\n",
        "m_idxs = np.argsort(mk_values_out)\n",
        "\n",
        "ek_values_out = ek_values_out[e_idxs]\n",
        "mk_values_out = mk_values_out[m_idxs]\n",
        "euclidean_aucs = euclidean_aucs[e_idxs]\n",
        "manhattan_aucs = manhattan_aucs[m_idxs]\n",
        "\n",
        "plt.plot(ek_values_out, euclidean_aucs, marker='o', linestyle='-', color='b', label='Euclidean')\n",
        "plt.plot(mk_values_out, manhattan_aucs, marker='s', linestyle='-', color='r', label='Manhattan')\n",
        "\n",
        "plt.title('AUC vs k for Different Distance Metrics', fontsize=14)\n",
        "plt.xlabel('k (Number of Neighbors)', fontsize=12)\n",
        "plt.ylabel('AUC Score', fontsize=12)\n",
        "\n",
        "plt.legend(title='Distance Metric')\n",
        "\n",
        "plt.grid(True)\n",
        "plt.show()"
      ]
    },
    {
      "cell_type": "code",
      "execution_count": 18,
      "metadata": {
        "id": "AdlbXV9bZVVp"
      },
      "outputs": [],
      "source": [
        "# Train on full dataset with optimal hyperparameters and make predictions on test set\n",
        "knn = KNN(k=best_k, distance_metric=best_metric)\n",
        "knn.fit(X, y)\n",
        "test_predictions = knn.predict(X_test)\n",
        "\n",
        "# Save test predictions\n",
        "pd.DataFrame({'id': pd.read_csv('./test.csv')['id'], 'Exited': test_predictions}).to_csv('submissions.csv', index=False)"
      ]
    }
  ],
  "metadata": {
    "colab": {
      "provenance": []
    },
    "kernelspec": {
      "display_name": "cs506",
      "language": "python",
      "name": "python3"
    },
    "language_info": {
      "codemirror_mode": {
        "name": "ipython",
        "version": 3
      },
      "file_extension": ".py",
      "mimetype": "text/x-python",
      "name": "python",
      "nbconvert_exporter": "python",
      "pygments_lexer": "ipython3",
      "version": "3.10.15"
    }
  },
  "nbformat": 4,
  "nbformat_minor": 0
}