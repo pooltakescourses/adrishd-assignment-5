{
  "cells": [
    {
      "cell_type": "markdown",
      "source": [
        "Installing Libraries for Parallelization and JIT Compiling Numpy Operations, for fast experimentation."
      ],
      "metadata": {
        "id": "YR4b3kb_Emsl"
      }
    },
    {
      "cell_type": "code",
      "execution_count": null,
      "metadata": {
        "id": "SsQvugrBVIf0"
      },
      "outputs": [],
      "source": [
        "!pip install -q 'ray[default]' numba"
      ]
    },
    {
      "cell_type": "code",
      "execution_count": 41,
      "metadata": {
        "id": "HJvspjPNQF12"
      },
      "outputs": [],
      "source": [
        "import numpy as np\n",
        "import numba as nb\n",
        "import pandas as pd\n",
        "from sklearn.preprocessing import StandardScaler, LabelEncoder\n",
        "from sklearn.model_selection import KFold\n",
        "from sklearn.metrics import roc_auc_score\n",
        "import matplotlib.pyplot as plt\n",
        "\n",
        "\n",
        "\n",
        "@nb.njit\n",
        "def compute_distance_euclidean(X1, X2):\n",
        "  return np.sqrt(np.sum((X2 - X1) ** 2, axis=1))\n",
        "\n",
        "@nb.njit\n",
        "def compute_distance_manhattan(X1, X2):\n",
        "  return np.sum(np.abs(X2 - X1), axis=1)\n",
        "\n",
        "class KNN:\n",
        "    def __init__(self, k=3, distance_metric='euclidean'):\n",
        "        self.k = k\n",
        "        self.distance_metric = distance_metric\n",
        "\n",
        "    def fit(self, X, y):\n",
        "        self.X_train = X\n",
        "        self.y_train = y\n",
        "\n",
        "    def predict(self, X):\n",
        "        probabilities = np.zeros((X.shape[0],))  # 2 for binary classification\n",
        "        for i, x in enumerate(X):\n",
        "            neighbors = self._get_neighbors(x)\n",
        "            # Calculate probability as the proportion of neighbors belonging to class 1\n",
        "            prob_class_1 = np.sum(self.y_train[neighbors] == 1) / self.k\n",
        "            probabilities[i] = prob_class_1\n",
        "        return probabilities\n",
        "\n",
        "    def _get_neighbors(self, x):\n",
        "        # Compute distances from x to all points in the training set\n",
        "        distances = self.compute_distances(self.X_train, x)\n",
        "        # Get the indices of the k nearest neighbors\n",
        "        neighbors_idx = np.argsort(distances)[:self.k]\n",
        "        return neighbors_idx\n",
        "\n",
        "    def compute_distances(self, X1, X2):\n",
        "        if self.distance_metric == 'euclidean':\n",
        "            return compute_distance_euclidean(X1, X2)\n",
        "        elif self.distance_metric == 'manhattan':\n",
        "            return compute_distance_manhattan(X1, X2)\n",
        "        else:\n",
        "            raise ValueError(f\"Unknown distance metric: {self.distance_metric}\")\n"
      ]
    },
    {
      "cell_type": "code",
      "execution_count": 42,
      "metadata": {
        "id": "5cmjS1JdQF12"
      },
      "outputs": [],
      "source": [
        "# Define data preprocessing function\n",
        "def preprocess_data(train_path, test_path):\n",
        "    # Load data\n",
        "    train_data = pd.read_csv(train_path)\n",
        "    test_data = pd.read_csv(test_path)\n",
        "\n",
        "    # Drop unnecessary columns (Customer ID, Surname)\n",
        "    train_data.drop(['CustomerId', 'Surname'], axis=1, inplace=True)\n",
        "    test_data.drop(['CustomerId', 'Surname'], axis=1, inplace=True)\n",
        "\n",
        "    # Handle categorical variables (Geography, Gender)\n",
        "    le = LabelEncoder()\n",
        "    for col in ['Geography', 'Gender']:\n",
        "        train_data[col] = le.fit_transform(train_data[col])\n",
        "        test_data[col] = le.transform(test_data[col])\n",
        "\n",
        "    # Separate features and target variable from training data\n",
        "    X_train = train_data.drop('Exited', axis=1).values\n",
        "    y_train = train_data['Exited'].values\n",
        "    X_test = test_data.values\n",
        "\n",
        "    scaler = StandardScaler()\n",
        "\n",
        "    X_train = scaler.fit_transform(X_train)\n",
        "    X_test = scaler.fit_transform(X_test)\n",
        "\n",
        "    return X_train, y_train, X_test"
      ]
    },
    {
      "cell_type": "code",
      "execution_count": 43,
      "metadata": {
        "id": "rs0ka0ziQF13"
      },
      "outputs": [],
      "source": [
        "# Define cross-validation function\n",
        "def cross_validate(X, y, knn, n_splits=5):\n",
        "    kf = KFold(n_splits=n_splits, shuffle=True, random_state=42)\n",
        "    auc_scores = []\n",
        "\n",
        "    for train_idx, val_idx in kf.split(X):\n",
        "        X_train, X_val = X[train_idx], X[val_idx]\n",
        "        y_train, y_val = y[train_idx], y[val_idx]\n",
        "\n",
        "        knn.fit(X_train, y_train)\n",
        "\n",
        "        y_pred = knn.predict(X_val)\n",
        "\n",
        "        auc = roc_auc_score(y_val, y_pred)\n",
        "        auc_scores.append(auc)\n",
        "\n",
        "    return auc_scores"
      ]
    },
    {
      "cell_type": "markdown",
      "source": [
        "## Parallelization Code\n",
        "Using ray ([ray.io](https://ray.io)) to parallelize hyperparameter tuning."
      ],
      "metadata": {
        "id": "HWZxU7VQDTOY"
      }
    },
    {
      "cell_type": "code",
      "execution_count": 44,
      "metadata": {
        "id": "BozbIf8OU_ef"
      },
      "outputs": [],
      "source": [
        "import ray\n",
        "import tqdm\n",
        "\n",
        "if not ray.is_initialized():\n",
        "  ray.init(dashboard_port=8265, dashboard_host=\"0.0.0.0\")\n",
        "\n",
        "def ray_get_with_progress(refs):\n",
        "    pbar = tqdm.tqdm(total=len(refs))\n",
        "    results = []\n",
        "    while refs:\n",
        "        done, refs = ray.wait(refs)\n",
        "        results.append(ray.get(done[0]))\n",
        "        pbar.update(1)\n",
        "    return results\n",
        "\n",
        "@ray.remote(num_cpus=0.5)\n",
        "def parallel_cross_validate(k, metric, X, y):\n",
        "    knn = KNN(k=k, distance_metric=metric)\n",
        "    auc_scores = cross_validate(X, y, knn)\n",
        "    avg_auc = np.mean(auc_scores)\n",
        "    return k, metric, avg_auc"
      ]
    },
    {
      "cell_type": "markdown",
      "source": [
        "Visualizing Job Running Status on Ray Dashboard"
      ],
      "metadata": {
        "id": "neHeVk-XD0Ht"
      }
    },
    {
      "cell_type": "code",
      "execution_count": 45,
      "metadata": {
        "colab": {
          "base_uri": "https://localhost:8080/",
          "height": 421
        },
        "id": "DtirUBkchWV5",
        "outputId": "294ab069-8f9f-40d4-c06d-63781bf5df25"
      },
      "outputs": [
        {
          "output_type": "display_data",
          "data": {
            "text/plain": [
              "<IPython.core.display.Javascript object>"
            ],
            "application/javascript": [
              "(async (port, path, width, height, cache, element) => {\n",
              "    if (!google.colab.kernel.accessAllowed && !cache) {\n",
              "      return;\n",
              "    }\n",
              "    element.appendChild(document.createTextNode(''));\n",
              "    const url = await google.colab.kernel.proxyPort(port, {cache});\n",
              "    const iframe = document.createElement('iframe');\n",
              "    iframe.src = new URL(path, url).toString();\n",
              "    iframe.height = height;\n",
              "    iframe.width = width;\n",
              "    iframe.style.border = 0;\n",
              "    iframe.allow = [\n",
              "        'accelerometer',\n",
              "        'autoplay',\n",
              "        'camera',\n",
              "        'clipboard-read',\n",
              "        'clipboard-write',\n",
              "        'gyroscope',\n",
              "        'magnetometer',\n",
              "        'microphone',\n",
              "        'serial',\n",
              "        'usb',\n",
              "        'xr-spatial-tracking',\n",
              "    ].join('; ');\n",
              "    element.appendChild(iframe);\n",
              "  })(8265, \"/\", \"100%\", \"400\", false, window.element)"
            ]
          },
          "metadata": {}
        }
      ],
      "source": [
        "from google.colab import output\n",
        "output.serve_kernel_port_as_iframe(8265)"
      ]
    },
    {
      "cell_type": "markdown",
      "source": [
        "Launching Jobs with different Hyperparameter setting."
      ],
      "metadata": {
        "id": "a0vAkrkDD8A7"
      }
    },
    {
      "cell_type": "code",
      "execution_count": 49,
      "metadata": {
        "colab": {
          "base_uri": "https://localhost:8080/"
        },
        "id": "S0Ji0OoHqPnP",
        "outputId": "2a97b5cc-5690-4464-bfa9-159678c86f2e"
      },
      "outputs": [
        {
          "output_type": "stream",
          "name": "stderr",
          "text": [
            "\n",
            "  0%|          | 0/18 [00:00<?, ?it/s]\u001b[A\n",
            "  6%|▌         | 1/18 [01:29<25:17, 89.24s/it]\u001b[A\n",
            " 11%|█         | 2/18 [01:32<10:15, 38.46s/it]\u001b[A\n",
            " 17%|█▋        | 3/18 [01:44<06:40, 26.69s/it]\u001b[A\n",
            " 22%|██▏       | 4/18 [01:46<03:53, 16.66s/it]\u001b[A\n",
            " 28%|██▊       | 5/18 [02:53<07:35, 35.04s/it]\u001b[A\n",
            " 33%|███▎      | 6/18 [02:59<04:59, 24.98s/it]\u001b[A\n",
            " 39%|███▉      | 7/18 [03:11<03:48, 20.77s/it]\u001b[A\n",
            " 44%|████▍     | 8/18 [03:12<02:26, 14.67s/it]\u001b[A\n",
            " 50%|█████     | 9/18 [04:18<04:35, 30.59s/it]\u001b[A\n",
            " 56%|█████▌    | 10/18 [04:28<03:13, 24.23s/it]\u001b[A\n",
            " 61%|██████    | 11/18 [04:47<02:37, 22.54s/it]\u001b[A\n",
            " 67%|██████▋   | 12/18 [04:47<01:34, 15.71s/it]\u001b[A\n",
            " 72%|███████▏  | 13/18 [05:44<02:21, 28.24s/it]\u001b[A\n",
            " 78%|███████▊  | 14/18 [05:57<01:34, 23.60s/it]\u001b[A\n",
            " 83%|████████▎ | 15/18 [06:10<01:01, 20.55s/it]\u001b[A\n",
            " 89%|████████▉ | 16/18 [06:14<00:30, 15.39s/it]\u001b[A\n",
            " 94%|█████████▍| 17/18 [06:41<00:19, 19.06s/it]\u001b[A\n",
            "100%|██████████| 18/18 [06:45<00:00, 22.53s/it]\n"
          ]
        }
      ],
      "source": [
        "X, y, X_test = preprocess_data('./train.csv', './test.csv')\n",
        "metrics = ['euclidean', 'manhattan']\n",
        "k_values = range(10, 100, 10)\n",
        "job_refs = [parallel_cross_validate.remote(k, metric, X, y) for metric in metrics for k in k_values]\n",
        "results = ray_get_with_progress(job_refs)"
      ]
    },
    {
      "cell_type": "markdown",
      "source": [
        "Finding Best Hyper Parameter and Visualizing Accuracy"
      ],
      "metadata": {
        "id": "5kAWizqrESf6"
      }
    },
    {
      "cell_type": "code",
      "execution_count": 50,
      "metadata": {
        "colab": {
          "base_uri": "https://localhost:8080/",
          "height": 586
        },
        "id": "1o4LHCdjQF13",
        "outputId": "51235e64-900f-4954-bcb0-59d750891e0b"
      },
      "outputs": [
        {
          "output_type": "stream",
          "name": "stdout",
          "text": [
            "Best k: 80, Best metric: manhattan, Best AUC: 0.9083013330478759\n"
          ]
        },
        {
          "output_type": "display_data",
          "data": {
            "text/plain": [
              "<Figure size 1000x600 with 1 Axes>"
            ],
            "image/png": "[encoded data removed]"
          },
          "metadata": {}
        }
      ],
      "source": [
        "# Hyperparameter tuning for k and distance_metric\n",
        "best_k = 5\n",
        "best_metric = 'euclidean'\n",
        "best_auc = 0\n",
        "\n",
        "euclidean_aucs = []\n",
        "manhattan_aucs = []\n",
        "ek_values_out = []\n",
        "mk_values_out = []\n",
        "for k, metric, auc in results:\n",
        "    if metric == 'euclidean':\n",
        "        euclidean_aucs.append(auc)\n",
        "        ek_values_out.append(k)\n",
        "    elif metric == 'manhattan':\n",
        "        manhattan_aucs.append(auc)\n",
        "        mk_values_out.append(k)\n",
        "\n",
        "    if auc > best_auc:\n",
        "        best_auc = auc\n",
        "        best_k = k\n",
        "        best_metric = metric\n",
        "\n",
        "print(f\"Best k: {best_k}, Best metric: {best_metric}, Best AUC: {best_auc}\")\n",
        "\n",
        "\n",
        "plt.figure(figsize=(10, 6))\n",
        "\n",
        "ek_values_out = np.asarray(ek_values_out)\n",
        "mk_values_out = np.asarray(mk_values_out)\n",
        "euclidean_aucs = np.asarray(euclidean_aucs)\n",
        "manhattan_aucs = np.asarray(manhattan_aucs)\n",
        "\n",
        "e_idxs = np.argsort(ek_values_out)\n",
        "m_idxs = np.argsort(mk_values_out)\n",
        "\n",
        "ek_values_out = ek_values_out[e_idxs]\n",
        "mk_values_out = mk_values_out[m_idxs]\n",
        "euclidean_aucs = euclidean_aucs[e_idxs]\n",
        "manhattan_aucs = manhattan_aucs[m_idxs]\n",
        "\n",
        "plt.plot(ek_values_out, euclidean_aucs, marker='o', linestyle='-', color='b', label='Euclidean')\n",
        "plt.plot(mk_values_out, manhattan_aucs, marker='s', linestyle='-', color='r', label='Manhattan')\n",
        "\n",
        "plt.title('AUC vs k for Different Distance Metrics', fontsize=14)\n",
        "plt.xlabel('k (Number of Neighbors)', fontsize=12)\n",
        "plt.ylabel('AUC Score', fontsize=12)\n",
        "\n",
        "plt.legend(title='Distance Metric')\n",
        "\n",
        "plt.grid(True)\n",
        "plt.show()"
      ]
    },
    {
      "cell_type": "code",
      "execution_count": 51,
      "metadata": {
        "id": "AdlbXV9bZVVp"
      },
      "outputs": [],
      "source": [
        "# Train on full dataset with optimal hyperparameters and make predictions on test set\n",
        "knn = KNN(k=best_k, distance_metric=best_metric)\n",
        "knn.fit(X, y)\n",
        "test_predictions = knn.predict(X_test)\n",
        "\n",
        "# Save test predictions\n",
        "pd.DataFrame({'id': pd.read_csv('./test.csv')['id'], 'Exited': test_predictions}).to_csv('submissions.csv', index=False)"
      ]
    }
  ],
  "metadata": {
    "colab": {
      "provenance": []
    },
    "kernelspec": {
      "display_name": "cs506",
      "language": "python",
      "name": "python3"
    },
    "language_info": {
      "codemirror_mode": {
        "name": "ipython",
        "version": 3
      },
      "file_extension": ".py",
      "mimetype": "text/x-python",
      "name": "python",
      "nbconvert_exporter": "python",
      "pygments_lexer": "ipython3",
      "version": "3.10.15"
    }
  },
  "nbformat": 4,
  "nbformat_minor": 0
}